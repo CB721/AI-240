{
 "cells": [
  {
   "cell_type": "code",
   "execution_count": 2,
   "id": "66f418e3-57e6-4458-9ba3-d8b316ef4961",
   "metadata": {},
   "outputs": [
    {
     "name": "stdout",
     "output_type": "stream",
     "text": [
      "Requirement already satisfied: pandas in /opt/anaconda3/lib/python3.12/site-packages (2.2.2)\n",
      "Requirement already satisfied: numpy>=1.26.0 in /opt/anaconda3/lib/python3.12/site-packages (from pandas) (1.26.4)\n",
      "Requirement already satisfied: python-dateutil>=2.8.2 in /opt/anaconda3/lib/python3.12/site-packages (from pandas) (2.9.0.post0)\n",
      "Requirement already satisfied: pytz>=2020.1 in /opt/anaconda3/lib/python3.12/site-packages (from pandas) (2024.1)\n",
      "Requirement already satisfied: tzdata>=2022.7 in /opt/anaconda3/lib/python3.12/site-packages (from pandas) (2023.3)\n",
      "Requirement already satisfied: six>=1.5 in /opt/anaconda3/lib/python3.12/site-packages (from python-dateutil>=2.8.2->pandas) (1.16.0)\n"
     ]
    }
   ],
   "source": [
    "!pip install pandas"
   ]
  },
  {
   "cell_type": "code",
   "execution_count": 4,
   "id": "cf18ba5f-2108-460b-900e-330c559864e3",
   "metadata": {},
   "outputs": [],
   "source": [
    "import pandas as pd"
   ]
  },
  {
   "cell_type": "markdown",
   "id": "2b25e69c-b410-4857-8982-886690071fbf",
   "metadata": {},
   "source": [
    "series data - 1-dimensional data"
   ]
  },
  {
   "cell_type": "code",
   "execution_count": 8,
   "id": "aca6bb21-8017-4f3f-921a-5a110277aa22",
   "metadata": {},
   "outputs": [],
   "source": [
    "x = [9,3,12]"
   ]
  },
  {
   "cell_type": "code",
   "execution_count": 10,
   "id": "eaf7897a-cc95-449b-9740-7ad663bfeeaa",
   "metadata": {},
   "outputs": [
    {
     "name": "stdout",
     "output_type": "stream",
     "text": [
      "0     9\n",
      "1     3\n",
      "2    12\n",
      "dtype: int64\n"
     ]
    }
   ],
   "source": [
    "sr = pd.Series(x)\n",
    "print(sr)"
   ]
  },
  {
   "cell_type": "markdown",
   "id": "2e8c685c-35a2-4272-945a-721ffdc95524",
   "metadata": {},
   "source": [
    "dataframe - tabular data "
   ]
  },
  {
   "cell_type": "code",
   "execution_count": 20,
   "id": "b2d17409-4519-4634-9b8e-50e6d1925eca",
   "metadata": {},
   "outputs": [
    {
     "name": "stdout",
     "output_type": "stream",
     "text": [
      "     cars   color\n",
      "0  Ferari   Green\n",
      "1   Honda    Blue\n",
      "2  Toyota  Silver\n"
     ]
    }
   ],
   "source": [
    "carsdataset = {\n",
    "'cars': ['Ferari', 'Honda', 'Toyota'],\n",
    "'color': ['Green', 'Blue', 'Silver']\n",
    "}\n",
    "df = pd.DataFrame(carsdataset)\n",
    "print(df)"
   ]
  },
  {
   "cell_type": "markdown",
   "id": "fac1c60d-c587-4b61-9759-3510e0f12fbd",
   "metadata": {},
   "source": [
    "create excel sheet from data"
   ]
  },
  {
   "cell_type": "code",
   "execution_count": 23,
   "id": "252c3469-ea3a-4edc-a80d-01c1f0620cd9",
   "metadata": {},
   "outputs": [],
   "source": [
    "data = {'col1': [1, 2], 'col2': [3, 4]}\n",
    "df2 = pd.DataFrame(data)"
   ]
  },
  {
   "cell_type": "code",
   "execution_count": 34,
   "id": "b66fe6c8-7966-43d5-853d-daf36d88b229",
   "metadata": {},
   "outputs": [],
   "source": [
    "df2.to_excel('output.xlsx',\n",
    "sheet_name='Sheet1', index=False)"
   ]
  },
  {
   "cell_type": "markdown",
   "id": "92990652-ff2f-45cb-92f8-fb8320a026f3",
   "metadata": {},
   "source": [
    "slicing dataframe"
   ]
  },
  {
   "cell_type": "code",
   "execution_count": 30,
   "id": "1aa632e6-a977-4927-9fcf-6621bead6d22",
   "metadata": {},
   "outputs": [],
   "source": [
    "player_data = [['Player 1', 32, 75, 5428000],\n",
    "['Player 2', 33, 74, 3428000],\n",
    "['Player 3', 34, 70, 8428000],\n",
    "['Player 4', 35, 80, 4428000],\n",
    "['Player 5', 36, 100, 4528000],\n",
    "['Player 6', 38, 72, 7028000],\n",
    "['Player 7', 22, 85, 2528000]]"
   ]
  },
  {
   "cell_type": "code",
   "execution_count": 36,
   "id": "7f772d92-9843-4c8e-991b-3324860b1f83",
   "metadata": {},
   "outputs": [],
   "source": [
    "df3 = pd.DataFrame(player_data, columns=['Name', 'Age', 'Weight',\n",
    "'Salary'])"
   ]
  },
  {
   "cell_type": "code",
   "execution_count": 53,
   "id": "f741066c-f4ec-4632-b595-3abf59352b26",
   "metadata": {},
   "outputs": [
    {
     "name": "stdout",
     "output_type": "stream",
     "text": [
      "       Name  Age  Weight   Salary\n",
      "0  Player 1   32      75  5428000\n",
      "1  Player 2   33      74  3428000\n",
      "2  Player 3   34      70  8428000\n",
      "3  Player 4   35      80  4428000\n",
      "4  Player 5   36     100  4528000\n",
      "5  Player 6   38      72  7028000\n",
      "6  Player 7   22      85  2528000\n"
     ]
    }
   ],
   "source": [
    "print(df3)"
   ]
  },
  {
   "cell_type": "code",
   "execution_count": 61,
   "id": "22300c11-ddd4-4a4c-b433-7cdc8786c2c5",
   "metadata": {},
   "outputs": [
    {
     "name": "stdout",
     "output_type": "stream",
     "text": [
      "       Name  Age  Weight   Salary\n",
      "0  Player 1   32      75  5428000\n",
      "1  Player 2   33      74  3428000\n",
      "2  Player 3   34      70  8428000\n",
      "3  Player 4   35      80  4428000\n"
     ]
    }
   ],
   "source": [
    "df5 = df3.iloc[0:4]\n",
    "print(df5)"
   ]
  },
  {
   "cell_type": "code",
   "execution_count": 63,
   "id": "a1d113f4-9c21-4248-8bc2-16534429fa0a",
   "metadata": {},
   "outputs": [],
   "source": [
    "data = df[df['Age'] > 34].iloc[:, :]"
   ]
  },
  {
   "cell_type": "code",
   "execution_count": 65,
   "id": "cbfa6066-9806-41f1-80c7-f42242c8b169",
   "metadata": {},
   "outputs": [
    {
     "name": "stdout",
     "output_type": "stream",
     "text": [
      "\n",
      "Filtered Data based on Age > 34:\n",
      "        Name  Age  Weight   Salary\n",
      "3  Player 4   35      80  4428000\n",
      "4  Player 5   36     100  4528000\n",
      "5  Player 6   38      72  7028000\n"
     ]
    }
   ],
   "source": [
    "print(\"\\nFiltered Data based on Age > 34:\\n\", data)"
   ]
  },
  {
   "cell_type": "markdown",
   "id": "5d9a483c-bed7-44e9-bfc9-b2a9ccfefe71",
   "metadata": {},
   "source": [
    "import csv"
   ]
  },
  {
   "cell_type": "code",
   "execution_count": 49,
   "id": "423553c4-8136-47b3-9949-8951ae1b403c",
   "metadata": {},
   "outputs": [],
   "source": [
    "df4 = pd.read_csv('car-data.csv')"
   ]
  },
  {
   "cell_type": "code",
   "execution_count": 51,
   "id": "fe8d2fc3-8c31-425c-a62d-d8b07d9dd36f",
   "metadata": {},
   "outputs": [
    {
     "name": "stdout",
     "output_type": "stream",
     "text": [
      "<class 'pandas.core.frame.DataFrame'>\n",
      "RangeIndex: 0 entries\n",
      "Data columns (total 1 columns):\n",
      " #   Column        Non-Null Count  Dtype \n",
      "---  ------        --------------  ----- \n",
      " 0   Unauthorized  0 non-null      object\n",
      "dtypes: object(1)\n",
      "memory usage: 132.0+ bytes\n"
     ]
    }
   ],
   "source": [
    "df4.info()"
   ]
  },
  {
   "cell_type": "markdown",
   "id": "2339e3c2-6772-456b-a351-98f6136bd08a",
   "metadata": {},
   "source": [
    "Add the content of one DataFrame to another"
   ]
  },
  {
   "cell_type": "code",
   "execution_count": 68,
   "id": "1f8f421a-471b-4bd6-89be-249577f31031",
   "metadata": {},
   "outputs": [
    {
     "name": "stdout",
     "output_type": "stream",
     "text": [
      "    name  age Education\n",
      "0    Uma   40      Ph.D\n",
      "1   Nova   50       M.S\n",
      "2  Bella   20       B.S\n"
     ]
    }
   ],
   "source": [
    "data1 = {\n",
    "'name': ['Uma', 'Nova', 'Bella'],\n",
    "'age': [40, 50, 20]\n",
    "}\n",
    "data2 = {\n",
    "'Education': ['Ph.D', 'M.S', 'B.S']\n",
    "}\n",
    "df6 = pd.DataFrame(data1)\n",
    "df7 = pd.DataFrame(data2)\n",
    "newdf = df6.join(df7)\n",
    "print(newdf)"
   ]
  },
  {
   "cell_type": "markdown",
   "id": "a8e130b6-9c9f-42fe-97a3-9625f8ebf9d5",
   "metadata": {},
   "source": [
    "create dataframes from the dictionaries"
   ]
  },
  {
   "cell_type": "code",
   "execution_count": 71,
   "id": "f0b793fb-dce1-45b2-a70d-f2bece88597f",
   "metadata": {},
   "outputs": [
    {
     "name": "stdout",
     "output_type": "stream",
     "text": [
      "  EmployeeID   Name DeptID  DeptName\n",
      "0       E001  Kelly   D900  Computer\n",
      "1       E002    Cat   D800        HR\n",
      "2       E003    Mat   D900  Computer\n",
      "3       E004   Jhon   D700  Accounts\n",
      "4       E005    Sam   D800        HR\n"
     ]
    }
   ],
   "source": [
    "data1 = {\n",
    "'EmployeeID' : ['E001', 'E002', 'E003', 'E004', 'E005'],\n",
    "'Name' : ['Kelly', 'Cat', 'Mat', 'Jhon', 'Sam'],\n",
    "'DeptID': ['D900', 'D800', 'D900', 'D700', 'D800'],\n",
    "}\n",
    "employees = pd.DataFrame(data1)\n",
    "data2 = {\n",
    "'DeptID': ['D900', 'D700', 'D800'],\n",
    "'DeptName': ['Computer', 'Accounts', 'HR']\n",
    "}\n",
    "departments = pd.DataFrame(data2)\n",
    "# merge dataframes employees and departments\n",
    "merged_df = pd.merge(employees, departments)\n",
    "print(merged_df)"
   ]
  },
  {
   "cell_type": "code",
   "execution_count": null,
   "id": "0f93266a-ba1d-4e00-b3af-a0c2054cf1cd",
   "metadata": {},
   "outputs": [],
   "source": []
  }
 ],
 "metadata": {
  "kernelspec": {
   "display_name": "Python [conda env:base] *",
   "language": "python",
   "name": "conda-base-py"
  },
  "language_info": {
   "codemirror_mode": {
    "name": "ipython",
    "version": 3
   },
   "file_extension": ".py",
   "mimetype": "text/x-python",
   "name": "python",
   "nbconvert_exporter": "python",
   "pygments_lexer": "ipython3",
   "version": "3.12.7"
  }
 },
 "nbformat": 4,
 "nbformat_minor": 5
}

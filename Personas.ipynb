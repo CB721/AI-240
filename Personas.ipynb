{
 "cells": [
  {
   "cell_type": "code",
   "execution_count": 13,
   "id": "51979687-d03d-47c7-a014-b146caf0832f",
   "metadata": {},
   "outputs": [],
   "source": [
    "import random"
   ]
  },
  {
   "cell_type": "code",
   "execution_count": 15,
   "id": "dc0e5822-dafb-4af7-afff-fbe8517a4d4a",
   "metadata": {},
   "outputs": [],
   "source": [
    "# Define cities within King County, WA for consistent location updates\n",
    "king_county_cities = [\n",
    "    \"Seattle\", \"Bellevue\", \"Kent\", \"Renton\", \"Federal Way\", \"Shoreline\", \n",
    "    \"Redmond\", \"Kirkland\", \"Auburn\", \"Burien\", \"Bothell\", \"Issaquah\", \n",
    "    \"SeaTac\", \"Tukwila\", \"Sammamish\", \"Des Moines\", \"Kenmore\"\n",
    "]"
   ]
  },
  {
   "cell_type": "code",
   "execution_count": 17,
   "id": "adf70244-44f2-4673-9289-5000ae8f4496",
   "metadata": {},
   "outputs": [],
   "source": [
    "# Helper functions to assign additional fields\n",
    "def assign_education(background):\n",
    "    if \"dropped out\" in background or \"no GED\" in background or \"never finished high school\" in background:\n",
    "        return \"No High School Diploma\"\n",
    "    elif \"GED\" in background or \"high school\" in background:\n",
    "        return \"High School Diploma or GED\"\n",
    "    elif \"teacher\" in background or \"engineer\" in background or \"retired nurse\" in background:\n",
    "        return \"College Degree\"\n",
    "    else:\n",
    "        return random.choice([\"No High School Diploma\", \"High School Diploma or GED\", \"Some College\"])\n",
    "\n",
    "def assign_immigration(background):\n",
    "    if \"immigrant\" in background or \"refugee\" in background or \"from\" in background or \"undocumented\" in background:\n",
    "        return \"Immigrant\"\n",
    "    else:\n",
    "        return \"U.S. Born\"\n",
    "\n",
    "def assign_employment_status(background):\n",
    "    if \"retired\" in background or \"stay-at-home\" in background or \"shelter\" in background or \"unemployed\" in background:\n",
    "        return \"Unemployed\"\n",
    "    elif \"works\" in background or \"worker\" in background or \"janitor\" in background or \"barista\" in background or \"volunteer\" in background:\n",
    "        return \"Employed\"\n",
    "    else:\n",
    "        return random.choice([\"Employed\", \"Unemployed\"])\n",
    "\n",
    "def assign_employment_field(background):\n",
    "    keywords = {\n",
    "        \"janitor\": \"Maintenance\",\n",
    "        \"teacher\": \"Education\",\n",
    "        \"engineer\": \"Engineering\",\n",
    "        \"retired nurse\": \"Healthcare\",\n",
    "        \"barista\": \"Food Service\",\n",
    "        \"delivery\": \"Transportation\",\n",
    "        \"construction\": \"Construction\",\n",
    "        \"grocery\": \"Retail\",\n",
    "        \"warehouse\": \"Warehouse\",\n",
    "        \"security\": \"Security\",\n",
    "        \"food truck\": \"Food Service\",\n",
    "        \"farm\": \"Agriculture\"\n",
    "    }\n",
    "    for key, field in keywords.items():\n",
    "        if key in background:\n",
    "            return field\n",
    "    return random.choice([\"Retail\", \"Unspecified\", \"Food Service\", \"Healthcare\", \"Education\"])\n",
    "\n",
    "def assign_enrollment_status(motivation):\n",
    "    if motivation == \"Seeking\":\n",
    "        return random.choices([0, 1, 2], weights=[1, 2, 5])[0]\n",
    "    elif motivation == \"Ambivalent\":\n",
    "        return random.choices([0, 1, 2], weights=[4, 1, 1])[0]\n",
    "    else:  # Not Seeking\n",
    "        return 0"
   ]
  },
  {
   "cell_type": "code",
   "execution_count": 19,
   "id": "7fefbacd-7fd1-4fd2-b021-60ec5bb5f2b9",
   "metadata": {},
   "outputs": [],
   "source": [
    "# Enhance DataFrame with new fields\n",
    "df[\"City\"] = [random.choice(king_county_cities) for _ in df.index]\n",
    "df[\"Education Level\"] = df[\"Background\"].apply(assign_education)\n",
    "df[\"Immigration Status\"] = df[\"Background\"].apply(assign_immigration)\n",
    "df[\"Employment Status\"] = df[\"Background\"].apply(assign_employment_status)\n",
    "df[\"Employment Field\"] = df[\"Background\"].apply(assign_employment_field)\n",
    "df[\"Enrollment Status\"] = df[\"Motivation Level\"].apply(assign_enrollment_status)"
   ]
  },
  {
   "cell_type": "code",
   "execution_count": 21,
   "id": "9305fac4-ea00-43db-b032-1d911c0c435f",
   "metadata": {},
   "outputs": [],
   "source": [
    "# Reorder and select specified columns\n",
    "enhanced_df = df[[\n",
    "    \"Name\", \"Age\", \"City\", \"Education Level\", \"Immigration Status\", \n",
    "    \"Employment Status\", \"Employment Field\", \"Enrollment Status\"\n",
    "]]"
   ]
  },
  {
   "cell_type": "code",
   "execution_count": 23,
   "id": "e78f1a5e-ffdf-4a8c-b2bb-47f908ab074a",
   "metadata": {},
   "outputs": [],
   "source": [
    "# Save to CSV\n",
    "enhanced_csv_path = \"Enhanced_Adult_Education_Personas_KingCounty.csv\"\n",
    "enhanced_df.to_csv(enhanced_csv_path, index=False)"
   ]
  },
  {
   "cell_type": "code",
   "execution_count": null,
   "id": "bee1045b-dbe7-4b9b-828b-93b95055fd39",
   "metadata": {},
   "outputs": [],
   "source": []
  }
 ],
 "metadata": {
  "kernelspec": {
   "display_name": "Python [conda env:base] *",
   "language": "python",
   "name": "conda-base-py"
  },
  "language_info": {
   "codemirror_mode": {
    "name": "ipython",
    "version": 3
   },
   "file_extension": ".py",
   "mimetype": "text/x-python",
   "name": "python",
   "nbconvert_exporter": "python",
   "pygments_lexer": "ipython3",
   "version": "3.12.7"
  }
 },
 "nbformat": 4,
 "nbformat_minor": 5
}
